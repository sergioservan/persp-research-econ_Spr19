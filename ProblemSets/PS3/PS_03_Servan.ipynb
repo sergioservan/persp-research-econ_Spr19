{
 "cells": [
  {
   "cell_type": "code",
   "execution_count": 1,
   "metadata": {},
   "outputs": [],
   "source": [
    "# We import the necessary packages\n",
    "\n",
    "import scipy.optimize as opt\n",
    "import numpy as np\n",
    "import time\n",
    "import matplotlib.pyplot as plt\n",
    "from matplotlib.ticker import MultipleLocator\n",
    "import os"
   ]
  },
  {
   "cell_type": "code",
   "execution_count": 2,
   "metadata": {},
   "outputs": [],
   "source": [
    "# Define parameters\n",
    "\n",
    "# HH Parameters\n",
    "nvec = np.array([1.0,1.0,0.2])\n",
    "yrs_live = 60\n",
    "s = 3\n",
    "beta = 0.442\n",
    "sigma = 3\n",
    "\n",
    "# Firm Parameters\n",
    "alpha = 0.35\n",
    "A = 1.0\n",
    "delta_annual = 0.05\n",
    "delta = 1- ((1 - delta_annual) ** (yrs_live/s))"
   ]
  },
  {
   "cell_type": "code",
   "execution_count": 3,
   "metadata": {},
   "outputs": [],
   "source": [
    "# First, we define some functions for computing labor (L), capital (K), wage (w), interest rate (r) and output (Y):\n",
    "\n",
    "def get_L(nvec): \n",
    "    L = nvec.sum()\n",
    "    return L\n",
    "\n",
    "def get_K(bvec): \n",
    "    K = bvec.sum()\n",
    "    return K\n",
    "\n",
    "def get_w(K, L, params): \n",
    "    A, alpha = params\n",
    "    w = (1 - alpha) * A * ((K / L) ** alpha)\n",
    "    return w\n",
    "\n",
    "def get_r(K, L, params): \n",
    "    A, alpha, delta = params\n",
    "    r = alpha * A * ((L / K) ** (1 - alpha)) - delta\n",
    "    return r\n",
    "\n",
    "def get_Y(K, L, params):\n",
    "    A, alpha = params\n",
    "    Y = A * (K ** alpha) * (L ** (1 - alpha))\n",
    "    return Y"
   ]
  },
  {
   "cell_type": "markdown",
   "metadata": {},
   "source": [
    "## Exercise 2.1"
   ]
  },
  {
   "cell_type": "code",
   "execution_count": 4,
   "metadata": {},
   "outputs": [],
   "source": [
    "# Function \"feasible\" for checking feasibility:\n",
    "\n",
    "def feasible(f_params, bvec_guess):\n",
    "    nvec, A, alpha, delta = f_params\n",
    "    \n",
    "    K = get_K(bvec_guess)\n",
    "    K_cnstr = K <= 0\n",
    "    L = get_L(nvec)\n",
    "    \n",
    "    if not K_cnstr:\n",
    "        w = get_w(K, L, (A, alpha))\n",
    "        r = get_r(K, L, (A, alpha, delta))\n",
    "        \n",
    "        b = np.append([0], bvec_guess)\n",
    "        b1 = np.append(bvec_guess, [0])\n",
    "        cvec = (1 + r) * b + w * nvec - b1\n",
    "        \n",
    "        c_cnstr = cvec <= 0\n",
    "        b_cnstr = c_cnstr[:-1] + c_cnstr[1:]\n",
    "        \n",
    "    else:\n",
    "        c_cnstr = np.ones(cvec.shape[0], dtype = bool)\n",
    "        b_cnstr = np.ones(cvec.shape[0] - 1, dtype = bool)\n",
    "        \n",
    "    return b_cnstr, c_cnstr, K_cnstr"
   ]
  },
  {
   "cell_type": "code",
   "execution_count": 5,
   "metadata": {},
   "outputs": [
    {
     "name": "stdout",
     "output_type": "stream",
     "text": [
      "(array([ True, False]), array([ True, False, False]), False)\n",
      "(array([False, False]), array([False, False, False]), False)\n",
      "(array([False, False]), array([False, False, False]), False)\n"
     ]
    }
   ],
   "source": [
    "f_params = (nvec, A, alpha, delta)\n",
    "bvec_guess1a = np.array([1.0, 1.2])\n",
    "bvec_guess2a = np.array([0.06, -0.001])\n",
    "bvec_guess3a = np.array([0.1, 0.1])\n",
    "\n",
    "print(feasible(f_params, bvec_guess1a))\n",
    "print(feasible(f_params, bvec_guess2a))\n",
    "print(feasible(f_params, bvec_guess3a))"
   ]
  },
  {
   "cell_type": "markdown",
   "metadata": {},
   "source": [
    "### Part a) "
   ]
  },
  {
   "cell_type": "markdown",
   "metadata": {},
   "source": [
    "If the initial guess for steady-stae saving is [1.0, 1.2], then constrain for the first period consumption is violated."
   ]
  },
  {
   "cell_type": "markdown",
   "metadata": {},
   "source": [
    "### Part b)"
   ]
  },
  {
   "cell_type": "markdown",
   "metadata": {},
   "source": [
    "If the initial guess for steady-stae saving is [0.06, -0.001], then none of the constrainst is violated."
   ]
  },
  {
   "cell_type": "markdown",
   "metadata": {},
   "source": [
    "### Part c)"
   ]
  },
  {
   "cell_type": "markdown",
   "metadata": {},
   "source": [
    "If the initial guess for steady-stae saving is [0.1, 0.1], then none of the constrainst is violated."
   ]
  },
  {
   "cell_type": "markdown",
   "metadata": {},
   "source": [
    "## Exercise 2.2"
   ]
  },
  {
   "cell_type": "code",
   "execution_count": 7,
   "metadata": {},
   "outputs": [],
   "source": [
    "def errors(bvec, *args):\n",
    "    \n",
    "    A, alpha, delta, nvec, beta, sigma = args\n",
    "    L = get_L(nvec)\n",
    "    K = get_K(bvec)\n",
    "    w = get_w(K, L, (A, alpha))\n",
    "    r = get_r(K, L, (A, alpha, delta))\n",
    "    \n",
    "    b = np.append([0], bvec)\n",
    "    b1 = np.append(bvec, [0])\n",
    "    cvec = (1 + r) * b + w * nvec - b1\n",
    "    \n",
    "    muc = cvec ** (-sigma)\n",
    "    \n",
    "    EulErr_ss = muc[:-1] - beta * (1 + r) * muc[1:]\n",
    "    \n",
    "    return EulErr_ss"
   ]
  },
  {
   "cell_type": "code",
   "execution_count": 8,
   "metadata": {},
   "outputs": [],
   "source": [
    "def get_SS(params, bvec_guess, SS_graphs = False):\n",
    "    \n",
    "    start_time = time.clock()\n",
    "    \n",
    "    beta, sigma, nvec, L, A, alpha, delta, SS_tol = params\n",
    "    \n",
    "    b = opt.root(errors, bvec_guess, args = (A, alpha, delta, nvec, beta, sigma), tol = SS_tol)\n",
    "    if b.success:\n",
    "        b_ss = b.x\n",
    "        \n",
    "    K_ss = get_K(b_ss)\n",
    "    w_ss = get_w(K_ss, L, (A, alpha))\n",
    "    r_ss = get_r(K_ss, L, (A, alpha, delta))\n",
    "    Y_ss = get_Y(K_ss, L, (A, alpha))\n",
    "    \n",
    "    b = np.append([0], b_ss)\n",
    "    b1 = np.append(b_ss, [0])\n",
    "    c_ss = (1 + r_ss) * b + w_ss * nvec - b1\n",
    "    C_ss = c_ss.sum()\n",
    "    \n",
    "    muc = c_ss ** (-sigma)\n",
    "    EulErr_ss = muc[:-1] - beta * (1 + r_ss) * muc[1:]\n",
    "    \n",
    "    RCerr_ss = Y_ss - C_ss - delta * K_ss\n",
    "    \n",
    "    ss_time = time.clock() - start_time\n",
    "\n",
    "    ss_output = {\n",
    "        'b_ss': b_ss, 'c_ss': c_ss, 'w_ss': w_ss, 'r_ss': r_ss,\n",
    "        'K_ss': K_ss, 'Y_ss': Y_ss, 'C_ss': C_ss,\n",
    "        'EulErr_ss': EulErr_ss, 'RCerr_ss': RCerr_ss,\n",
    "        'ss_time': ss_time}\n",
    "    \n",
    "    print('\\n Savings: \\t\\t\\t {} \\n Capital and Labor: \\t\\t {} \\n Wage and Interest rate: \\t {} \\n Consumption: \\t\\t\\t {}'.format(b_ss, np.array([K_ss, L]), np.array([w_ss, r_ss]), c_ss))\n",
    "    \n",
    "    print('Euler errors: ', EulErr_ss)\n",
    "    print('Resource Constraint error: ', RCerr_ss)\n",
    "    print('Time needed: ', ss_time)\n",
    "    \n",
    "    if SS_graphs:\n",
    "        \n",
    "        age = np.arange(1, 4)\n",
    "        fig, ax = plt.subplots()\n",
    "        plt.plot(age, c_ss, marker='D',label='Consumption')\n",
    "        plt.plot(age, np.append([0], b_ss), marker = 'D', label='Savings')\n",
    "        \n",
    "        minorLocator = MultipleLocator(1)\n",
    "        ax.xaxis.set_minor_locator(minorLocator)\n",
    "        plt.grid(b=True, which='major', color='0.65', linestyle='-')\n",
    "        plt.title('Steady-state consumption and savings')\n",
    "        plt.xlabel('Age')\n",
    "        plt.ylabel('Consumption units')\n",
    "        plt.legend()\n",
    "        plt.show()\n",
    "        \n",
    "    return ss_output"
   ]
  },
  {
   "cell_type": "markdown",
   "metadata": {},
   "source": [
    "### Part (a) and (b)"
   ]
  },
  {
   "cell_type": "code",
   "execution_count": 12,
   "metadata": {},
   "outputs": [
    {
     "name": "stderr",
     "output_type": "stream",
     "text": [
      "C:\\Anaconda3\\lib\\site-packages\\ipykernel_launcher.py:3: DeprecationWarning: time.clock has been deprecated in Python 3.3 and will be removed from Python 3.8: use time.perf_counter or time.process_time instead\n",
      "  This is separate from the ipykernel package so we can avoid doing imports until\n",
      "C:\\Anaconda3\\lib\\site-packages\\ipykernel_launcher.py:26: DeprecationWarning: time.clock has been deprecated in Python 3.3 and will be removed from Python 3.8: use time.perf_counter or time.process_time instead\n"
     ]
    },
    {
     "name": "stdout",
     "output_type": "stream",
     "text": [
      "\n",
      " Savings: \t\t\t [0.01931255 0.05841117] \n",
      " Capital and Labor: \t\t [0.07772372 2.2       ] \n",
      " Wage and Interest rate: \t [0.20172474 2.43304586] \n",
      " Consumption: \t\t\t [0.1824122  0.20961442 0.24087319]\n",
      "Euler errors:  [-1.36424205e-12  2.58637556e-12]\n",
      "Resource Constraint error:  8.326672684688674e-17\n",
      "Time needed:  0.002094689000159633\n"
     ]
    },
    {
     "data": {
      "image/png": "[encoded data removed]",
      "text/plain": [
       "<Figure size 432x288 with 1 Axes>"
      ]
     },
     "metadata": {
      "needs_background": "light"
     },
     "output_type": "display_data"
    }
   ],
   "source": [
    "L = get_L(nvec)\n",
    "SS_tol = 1e-10\n",
    "\n",
    "params = (beta, sigma, nvec, L, A, alpha, delta, SS_tol)\n",
    "bvec_guess = bvec_guess3a\n",
    "SS = get_SS(params, bvec_guess, SS_graphs = True)"
   ]
  },
  {
   "cell_type": "markdown",
   "metadata": {},
   "source": [
    "### Part (c)"
   ]
  },
  {
   "cell_type": "code",
   "execution_count": 13,
   "metadata": {},
   "outputs": [
    {
     "name": "stderr",
     "output_type": "stream",
     "text": [
      "C:\\Anaconda3\\lib\\site-packages\\ipykernel_launcher.py:3: DeprecationWarning: time.clock has been deprecated in Python 3.3 and will be removed from Python 3.8: use time.perf_counter or time.process_time instead\n",
      "  This is separate from the ipykernel package so we can avoid doing imports until\n",
      "C:\\Anaconda3\\lib\\site-packages\\ipykernel_launcher.py:26: DeprecationWarning: time.clock has been deprecated in Python 3.3 and will be removed from Python 3.8: use time.perf_counter or time.process_time instead\n"
     ]
    },
    {
     "name": "stdout",
     "output_type": "stream",
     "text": [
      "\n",
      " Savings: \t\t\t [0.02817696 0.07686557] \n",
      " Capital and Labor: \t\t [0.10504253 2.2       ] \n",
      " Wage and Interest rate: \t [0.22415231 1.88636   ] \n",
      " Consumption: \t\t\t [0.19597535 0.22861559 0.26669216]\n",
      "Euler errors:  [-2.84217094e-14 -2.84217094e-14]\n",
      "Resource Constraint error:  9.71445146547012e-17\n",
      "Time needed:  0.0030340410000917473\n"
     ]
    },
    {
     "data": {
      "image/png": "[encoded data removed]",
      "text/plain": [
       "<Figure size 432x288 with 1 Axes>"
      ]
     },
     "metadata": {
      "needs_background": "light"
     },
     "output_type": "display_data"
    }
   ],
   "source": [
    "params_1 = (0.55, sigma, nvec, L, A, alpha, delta, SS_tol)\n",
    "SS_new = get_SS(params_1, bvec_guess, SS_graphs = True)"
   ]
  },
  {
   "cell_type": "markdown",
   "metadata": {},
   "source": [
    "Answer:\n",
    "\n",
    "All households are more patient, therefore savings in period 2 and 3 increase. This makes sense because consumption has become more valuable.\n",
    "\n",
    "Given that savings in period 2 and 3 have increased, then aggregate capital increases too (i.e. aggregate capital is just the sum of both savings). \n",
    "\n",
    "Given that labor is exogenous, it does not change. Since aggregate capital has increased, then capital-labor ratio increases.  \n",
    "\n",
    "The increase in capital-labor ratio implies an increase in wages (w) and a decrease in interest rates (r). This results come from the FOC of the firms.\n",
    "\n",
    "Finally, consumption in all periods increase. This has to be consistente whith a scenario where income effect dominates substitution effect."
   ]
  },
  {
   "cell_type": "markdown",
   "metadata": {},
   "source": [
    "## Excersise 3"
   ]
  },
  {
   "cell_type": "code",
   "execution_count": 15,
   "metadata": {},
   "outputs": [],
   "source": [
    "# Time path iteration (TPI)\n",
    "T = 30\n",
    "max_iter = 300\n",
    "TPI_tol = 1e-9\n",
    "xi = 0.2\n",
    "\n",
    "b_ss = SS['b_ss']\n",
    "K_ss = SS['K_ss']\n",
    "w_ss = SS['w_ss']\n",
    "r_ss = SS['r_ss']\n",
    "\n",
    "# Initial guess for capital stock\n",
    "b1vec = np.array([0.8 * b_ss[0], 1.1 * b_ss[1]])\n",
    "K1 = get_K(b1vec)\n",
    "Kpath_old = np.zeros(T + 1)\n",
    "Kpath_old[:-1] = np.linspace(K1, K_ss, T)\n",
    "Kpath_old[-1] = K_ss"
   ]
  },
  {
   "cell_type": "code",
   "execution_count": 16,
   "metadata": {},
   "outputs": [],
   "source": [
    "# Euler function error for the individual who is already born in period 1 (because they are different)\n",
    "def get_error(b3, *args):\n",
    "    \n",
    "    nvec, beta, sigma, b2, w_path, r_path = args\n",
    "    n2, n3 = nvec\n",
    "    w1, w2 = w_path\n",
    "    r1, r2 = r_path\n",
    "    c2 = (1 + r1) * b2 + w1 * n2 - b3\n",
    "    c3 = (1 + r2) * b3 + w2 * n3\n",
    "    muc2 = c2 ** (-sigma)\n",
    "    muc3 = c3 ** (-sigma)\n",
    "    error = muc2 - beta * (1 + r2) * muc3\n",
    "    \n",
    "    return error\n",
    "\n",
    "# Euler function errors for other individuals\n",
    "def get_errors(bvec, *args):\n",
    "    \n",
    "    nvec, beta, sigma, w_path, r_path = args\n",
    "    b = np.append([0], bvec)\n",
    "    b1 = np.append(bvec, [0])\n",
    "    cvec = (1 + np.append([0], r_path)) * b + w_path * nvec - b1\n",
    "    \n",
    "    muc = cvec ** (-sigma)\n",
    "    errors = muc[:-1] - beta * (1 + r_path) * muc[1:]\n",
    "    \n",
    "    return errors"
   ]
  },
  {
   "cell_type": "code",
   "execution_count": 17,
   "metadata": {},
   "outputs": [
    {
     "name": "stdout",
     "output_type": "stream",
     "text": [
      "iteration: 1  squared distance:  0.0004014997390018167\n",
      "iteration: 2  squared distance:  0.0002826971862670616\n",
      "iteration: 3  squared distance:  0.00020026918205394385\n",
      "iteration: 4  squared distance:  0.0001426595542665342\n",
      "iteration: 5  squared distance:  0.00010212509582145367\n",
      "iteration: 6  squared distance:  7.343049228820882e-05\n",
      "iteration: 7  squared distance:  5.3005288623539305e-05\n",
      "iteration: 8  squared distance:  3.839435429950036e-05\n",
      "iteration: 9  squared distance:  2.7896386181297588e-05\n",
      "iteration: 10  squared distance:  2.0323942366415325e-05\n",
      "iteration: 11  squared distance:  1.4842720513231726e-05\n",
      "iteration: 12  squared distance:  1.0862970674419854e-05\n",
      "iteration: 13  squared distance:  7.965512191459109e-06\n",
      "iteration: 14  squared distance:  5.85092099379896e-06\n",
      "iteration: 15  squared distance:  4.304364781603985e-06\n",
      "iteration: 16  squared distance:  3.1710937588970545e-06\n",
      "iteration: 17  squared distance:  2.339245183255976e-06\n",
      "iteration: 18  squared distance:  1.7277059591003039e-06\n",
      "iteration: 19  squared distance:  1.277498065822295e-06\n",
      "iteration: 20  squared distance:  9.456337574084355e-07\n",
      "iteration: 21  squared distance:  7.007127771549903e-07\n",
      "iteration: 22  squared distance:  5.197550890386754e-07\n",
      "iteration: 23  squared distance:  3.8591429522337186e-07\n",
      "iteration: 24  squared distance:  2.8682164919358236e-07\n",
      "iteration: 25  squared distance:  2.1338340751091216e-07\n",
      "iteration: 26  squared distance:  1.5890531341238866e-07\n",
      "iteration: 27  squared distance:  1.184537362919958e-07\n",
      "iteration: 28  squared distance:  8.838874105158977e-08\n",
      "iteration: 29  squared distance:  6.602213939517473e-08\n",
      "iteration: 30  squared distance:  4.936672731097296e-08\n",
      "iteration: 31  squared distance:  3.695213134619896e-08\n",
      "iteration: 32  squared distance:  2.7689417245551345e-08\n",
      "iteration: 33  squared distance:  2.0771421458371032e-08\n",
      "iteration: 34  squared distance:  1.559931569703102e-08\n",
      "iteration: 35  squared distance:  1.1728443514817918e-08\n",
      "iteration: 36  squared distance:  8.828335627671361e-09\n",
      "iteration: 37  squared distance:  6.65316669205003e-09\n",
      "iteration: 38  squared distance:  5.019908580424455e-09\n",
      "iteration: 39  squared distance:  3.792161840646544e-09\n",
      "iteration: 40  squared distance:  2.868179826499955e-09\n",
      "iteration: 41  squared distance:  2.171991132775706e-09\n",
      "iteration: 42  squared distance:  1.6468134240863745e-09\n",
      "iteration: 43  squared distance:  1.2501632134466285e-09\n",
      "iteration: 44  squared distance:  9.502218497205447e-10\n"
     ]
    }
   ],
   "source": [
    "abs2 = 1\n",
    "tpi_iter = 0\n",
    "L = get_L(nvec)\n",
    "\n",
    "while abs2 > TPI_tol and tpi_iter < max_iter:\n",
    "    tpi_iter = tpi_iter + 1\n",
    "    w_path = get_w(Kpath_old, L, (A, alpha))\n",
    "    r_path = get_r(Kpath_old, L, (A, alpha, delta))\n",
    "   \n",
    "    b = np.zeros((2, T + 1))\n",
    "    b[:, 0] = b1vec\n",
    "   \n",
    "    b32 = opt.root(get_error, b[1, 0], args=(nvec[1:], beta, sigma, b[0, 0], w_path[:2], r_path[:2]))\n",
    "    b[1, 1] = b32.x\n",
    "    \n",
    "    for t in range(T - 1):\n",
    "        bvec_guess = np.array([b[0, t], b[1, t + 1]])\n",
    "        bt = opt.root(get_errors, bvec_guess, (nvec, beta, sigma, w_path[t : t + 3], r_path[t + 1: t + 3]))\n",
    "        b[0, t + 1] = bt.x[0]\n",
    "        b[1, t + 2] = bt.x[1]\n",
    "   \n",
    "    Kpath_new = b.sum(axis = 0)\n",
    "    abs2 = ((Kpath_old[:] - Kpath_new[:]) ** 2).sum()\n",
    "    \n",
    "    Kpath_old = xi * Kpath_new + (1 - xi) * Kpath_old\n",
    "    print('iteration:', tpi_iter, ' squared distance: ', abs2)"
   ]
  },
  {
   "cell_type": "markdown",
   "metadata": {},
   "source": [
    "### Part (a) and (b)"
   ]
  },
  {
   "cell_type": "code",
   "execution_count": 18,
   "metadata": {},
   "outputs": [
    {
     "data": {
      "image/png": "[encoded data removed]",
      "text/plain": [
       "<Figure size 432x288 with 1 Axes>"
      ]
     },
     "metadata": {
      "needs_background": "light"
     },
     "output_type": "display_data"
    },
    {
     "data": {
      "image/png": "[encoded data removed]",
      "text/plain": [
       "<Figure size 432x288 with 1 Axes>"
      ]
     },
     "metadata": {
      "needs_background": "light"
     },
     "output_type": "display_data"
    },
    {
     "data": {
      "image/png": "[encoded data removed]",
      "text/plain": [
       "<Figure size 432x288 with 1 Axes>"
      ]
     },
     "metadata": {
      "needs_background": "light"
     },
     "output_type": "display_data"
    }
   ],
   "source": [
    "plt.plot(1 + np.arange(T + 5), np.append(Kpath_old[:T-2], K_ss * np.ones(7)), 'go--')\n",
    "plt.grid(b=True, which='major', color='0.65', linestyle='-')\n",
    "plt.title('Time path of aggregate capital', fontsize=20)\n",
    "plt.xlabel(r'$t$')\n",
    "plt.ylabel(r'$K$')\n",
    "plt.show()\n",
    "\n",
    "w_path = get_w(Kpath_old, L, (A, alpha))\n",
    "r_path = get_r(Kpath_old, L, (A, alpha, delta))\n",
    "\n",
    "plt.plot(1 + np.arange(T + 5), np.append(w_path[:T-2], w_ss * np.ones(7)), 'go--')\n",
    "plt.grid(b=True, which='major', color='0.65', linestyle='-')\n",
    "plt.title('Time path of wage', fontsize=20)\n",
    "plt.xlabel(r'$t$')\n",
    "plt.ylabel(r'$w$')\n",
    "plt.show()\n",
    "\n",
    "plt.plot(1 + np.arange(T + 5), np.append(r_path[:T-2], r_ss * np.ones(7)), 'go--')\n",
    "plt.grid(b=True, which='major', color='0.65', linestyle='-')\n",
    "plt.title('Time path of interest rate', fontsize=20)\n",
    "plt.xlabel(r'$t$')\n",
    "plt.ylabel(r'$r$')\n",
    "plt.show()"
   ]
  },
  {
   "cell_type": "markdown",
   "metadata": {},
   "source": [
    "### Part (c)"
   ]
  },
  {
   "cell_type": "code",
   "execution_count": 19,
   "metadata": {},
   "outputs": [
    {
     "name": "stdout",
     "output_type": "stream",
     "text": [
      "0.07773097904919257\n",
      "3\n",
      "0.07770934700758651\n",
      "9\n"
     ]
    }
   ],
   "source": [
    "k_first = [k for k in Kpath_old if abs(k - K_ss) < 0.00001][0]\n",
    "print(k_first)\n",
    "T1 = np.where(Kpath_old == k_first)[0][0]\n",
    "print(T1+1)\n",
    "\n",
    "k_last = [k for k in Kpath_old[:-3] if abs(k- K_ss) > 0.00001][-1]\n",
    "print(k_last)\n",
    "T2 = np.where(Kpath_old == k_last)[0][0]\n",
    "print(T2+1)"
   ]
  },
  {
   "cell_type": "markdown",
   "metadata": {},
   "source": [
    "It takes 3 periods for the economy to get within 0.00001 of the SS aggregate capital stock.\n",
    "After period 9, the economy is never again farther than 0.00001 away from the SS."
   ]
  }
 ],
 "metadata": {
  "kernelspec": {
   "display_name": "Python 3",
   "language": "python",
   "name": "python3"
  },
  "language_info": {
   "codemirror_mode": {
    "name": "ipython",
    "version": 3
   },
   "file_extension": ".py",
   "mimetype": "text/x-python",
   "name": "python",
   "nbconvert_exporter": "python",
   "pygments_lexer": "ipython3",
   "version": "3.7.1"
  }
 },
 "nbformat": 4,
 "nbformat_minor": 2
}
